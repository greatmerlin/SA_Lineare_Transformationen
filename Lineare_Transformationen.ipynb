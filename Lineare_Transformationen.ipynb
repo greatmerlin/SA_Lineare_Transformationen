{
 "cells": [
  {
   "cell_type": "markdown",
   "metadata": {},
   "source": [
    "# Teil 1 der Semesterarbeit: Lineare Transformationen"
   ]
  },
  {
   "cell_type": "markdown",
   "metadata": {},
   "source": [
    "## Inhaltsverzeichnis\n",
    "1. Theorie  \n",
    "   1.1 Lineare Abbildungen  \n",
    "   1.2 Matrizen  \n",
    "   1.3 Darstellung von linearen Abbildungen durch Matizen  \n",
    "   1.4 Die Anwendungen der linearen Transformationen  \n",
    "2. Code - Darstellung zweidimensionalen linearen Abbildungen \n",
    "3. Quellen"
   ]
  },
  {
   "cell_type": "markdown",
   "metadata": {},
   "source": [
    "## 1. Theorie"
   ]
  },
  {
   "cell_type": "markdown",
   "metadata": {},
   "source": [
    "### 1.1 Lineare Abbildungen"
   ]
  },
  {
   "cell_type": "markdown",
   "metadata": {},
   "source": [
    "Lineare Abbildungen sind **strukturerhaltende Abbildungen zwischen Vektorräumen**, das heißt, sie erhalten die Addition und die skalare Multiplikation."
   ]
  },
  {
   "cell_type": "markdown",
   "metadata": {},
   "source": [
    "Sind $ V, W $ zwei Vektorräume (z. B. $ V = K^n $ und $ W = K^m $ ),\n",
    "dann heißt eine Abbildung $ F : V → W $ eine **lineare Abbildung** (oder auch **lineare\n",
    "Transformation**), wenn für alle Vektoren $ a, b ∈ V $ und alle Skalare $ k ∈ K $ gilt:\n",
    "\n",
    "$ F(a + b) = F(a) + F(b) $,    \n",
    "$ F(k * a) = k*F(a) $.\n"
   ]
  },
  {
   "cell_type": "markdown",
   "metadata": {},
   "source": [
    "Eine lineare Abbildung ist also mit Vektoraddition bzw. Multiplikation mit einem\n",
    "Skalar verträglich in dem Sinn, dass die Reihenfolge Abbilden – Addieren (bzw.\n",
    "Abbilden – Vielfaches bilden) vertauschbar ist."
   ]
  },
  {
   "cell_type": "markdown",
   "metadata": {},
   "source": [
    "Mann nennt eine Abbildung:  \n",
    "* **injektiv** wenn es zu jedem $ w ∈ W $ hochstens ein $ v ∈ V $ gibt.  \n",
    "* **surjektiv** wenn es zu jedem $ w ∈ W $ mindestens ein $ v ∈ V $ gibt.    \n",
    "* **bijektiv** wenn die Abbildung injektiv und surjektiv ist, es also zu jedem $ w ∈ W $ genau ein $ v ∈ V $ gibt.  "
   ]
  },
  {
   "cell_type": "markdown",
   "metadata": {},
   "source": [
    "Nun können wir die Verschiedene Menge veranschaulichen:  \n",
    "\n",
    "![alt text](https://raw.githubusercontent.com/greatmerlin/SA_Lineare_Transformationen/master/images/Menge.png \"Menge\")\n",
    "\n"
   ]
  },
  {
   "cell_type": "markdown",
   "metadata": {},
   "source": [
    "Drei wichtige Charakterisierungen der linearen Abbildung:  \n",
    "-  Eine Abbildung ist genau dann linear, wenn die Funktion von $ R^n nach R^m $ , die in der Form $ \\vec{v} -> A * \\vec{v} $ **durch eine Matrix** beschrieben wird.\n"
   ]
  },
  {
   "cell_type": "markdown",
   "metadata": {},
   "source": [
    "* Eine lineare Abbildung ist eine Funktion, die Punkte auf Punkte abbildet und dabei die folgenden drei Bedingungen erfüllt:  \n",
    "   – Eine Gerade wird entweder auf eine Gerade abgebildet, wobei die Streckenverhältnisse auf der Geraden erhalten bleiben,  \n",
    "   oder auf einen einzelnen Punkt.  \n",
    "   – Wenn zwei parallele Geraden auf zwei Geraden abgebildet werden, dann sind die Bildgeraden ebenfalls parallel.  \n",
    "   – Der Nullpunkt wird auf den Nullpunkt abgebildet.  \n"
   ]
  },
  {
   "cell_type": "markdown",
   "metadata": {},
   "source": [
    "* Eine lineare Abbildung ist eine Funktion f , die Vektoren auf Vektoren abbildet und für die $ f (v + w ) = f (v ) + f (w) $ sowie $ f (α · v ) = α · f ( v ) $\n",
    "für beliebige Vektoren $ v $ und $ w $ sowie Skalare $ α $ gilt.\n"
   ]
  },
  {
   "cell_type": "markdown",
   "metadata": {},
   "source": [
    "Als Beispiel, eine Visualisierung der Verträglichkeit mit der skalaren Multiplikation: Jede Skalierung $ λ v $ bleibt durch eine lineare Abbildung erhalten und es gilt $ f ( λ v ) = λ f ( v ) $. \n",
    "\n",
    "![alt text](https://raw.githubusercontent.com/greatmerlin/SA_Lineare_Transformationen/master/images/LinAb2.png \"Linear Abbildung\")\n"
   ]
  },
  {
   "cell_type": "markdown",
   "metadata": {},
   "source": [
    "### 1.2 Matrizen  "
   ]
  },
  {
   "cell_type": "markdown",
   "metadata": {},
   "source": [
    "Eine **Matrix** ist zunächst einmal nichts weiter als **ein rechteckiges Schema\n",
    "von Zahlen**.  \n",
    "Die einzelnen Einträge nennt man wie üblich **Komponenten**.  "
   ]
  },
  {
   "cell_type": "markdown",
   "metadata": {},
   "source": [
    "$ A =  $$\\begin{bmatrix} a1,1 & a1,2 & a1,3 \\\\ a2,1 & a2,2 & a2,3 \\\\ a3,1 & a3,2 & a3,3 \\end{bmatrix}$$ $"
   ]
  },
  {
   "cell_type": "markdown",
   "metadata": {},
   "source": [
    "In den meisten Programmiersprachen steht der Datentyp **array** (engl. für Feld, Anordnung) zur\n",
    "Verfügung. In einem array können mehrere gleichartige Elemente zusammengefasst werden, auf die\n",
    "mithilfe von Indizes zugegriffen wird. Hat jedes Element **einen Index**, so entspricht der array einem\n",
    "**Vektor**; wird **jedes Element** durch **zwei Indizes** angegeben, so führt uns das auf den mathematischen\n",
    "Begriff einer **Matrix**.\n"
   ]
  },
  {
   "cell_type": "code",
   "execution_count": 8,
   "metadata": {},
   "outputs": [
    {
     "data": {
      "text/plain": [
       "Matrix([\n",
       "[ 4,  5, 0],\n",
       "[-2, -2, 8],\n",
       "[-1,  4, 3]])"
      ]
     },
     "execution_count": 8,
     "metadata": {},
     "output_type": "execute_result"
    }
   ],
   "source": [
    "# mit simpy kann eine Matrix leicht definiert und dargestellt werden, ein Beispiel:\n",
    "from sympy import *\n",
    "A = Matrix( [ [4, 5, 0], [-2, -2, 8], [-1, 4, 3] ] )\n",
    "A"
   ]
  },
  {
   "cell_type": "markdown",
   "metadata": {},
   "source": [
    "### 1.3 Darstellung von linearen Abbildungen durch Matizen"
   ]
  },
  {
   "cell_type": "markdown",
   "metadata": {},
   "source": [
    "Im endlichdimensionalen sind lineare Abbildungen **eng Matrizen verknüpft**: Die Anwendung einer Matrix auf einen Vektor ist eine lineare Abbildung und nach einer geeigneten Basiswahl **lässt sich jede lineare Abbildung durch eine Matrix ausdrücken**."
   ]
  },
  {
   "cell_type": "markdown",
   "metadata": {},
   "source": [
    "Ein Beispiel, eine Lineare Abbildung von $R^2$ nach $R^2$ lassen sich so hinschreiben:\n",
    "\n",
    "$ $$\\begin{bmatrix} x \\\\ y\\\\ \\end{bmatrix}$$ |->  $$\\begin{bmatrix} ax & by \\\\ cx & dy\\\\ \\end{bmatrix}$$ = $$\\begin{bmatrix} a & b \\\\ c & d\\\\ \\end{bmatrix}$$ * $$\\begin{bmatrix} x \\\\ y\\\\ \\end{bmatrix}$$ $ "
   ]
  },
  {
   "cell_type": "markdown",
   "metadata": {},
   "source": [
    "Zwei Beispiele sind:  \n",
    "i) wenn a = b = c = d = 1 dann $ \\vec{x} |-> \\vec{0} $  \n",
    "ii) wenn a = d = 1 && b = c = 0 dann $ \\vec{x} |-> \\vec{x} $  (identisch)"
   ]
  },
  {
   "cell_type": "markdown",
   "metadata": {},
   "source": [
    "Sind $V$ und $W$ endlichdimensionale Vektorräume über dem Körper $K$, dann kann jede lineare Abbildung $f:V→W$, als Matrix $A$ dargestellt werden."
   ]
  },
  {
   "cell_type": "markdown",
   "metadata": {},
   "source": [
    "*Hinweis*:  \n",
    "Wenn\n",
    "wir ein Koordinatensystem in der Ebene haben, spielen die Vektoren $( 1, 0)^T$\n",
    "und $(0, 1)^T$ eine besondere Rolle. Wenn wir die kennen, dann kennen wir\n",
    "sowohl die Richtung der Achsen als auch ihren Maßstab. Man nennt diese\n",
    "Vektoren **kanonische Einheitsvektoren** und bezeichnet sie mit **e1 und e2**.  \n",
    "  \n",
    "Zu einem beliebigen Punkt in der Ebene kann man dessen Koordinaten interpretieren als Faktoren, mit denen man die kanonischen Einheitsvektoren\n",
    "multiplizieren muss, damit die Summe den Ortsvektor des Punktes ergibt:\n"
   ]
  },
  {
   "cell_type": "markdown",
   "metadata": {},
   "source": [
    "$ $$\\begin{bmatrix} x \\\\ y\\\\ \\end{bmatrix}$$ =  $$\\begin{bmatrix} 1 \\\\ 0\\\\ \\end{bmatrix}$$ +  $$\\begin{bmatrix} 0 \\\\ 1\\\\ \\end{bmatrix}$$ =  x * $$\\begin{bmatrix} 1 \\\\ 0\\\\ \\end{bmatrix}$$ +  y * $$\\begin{bmatrix} 0 \\\\ 1\\\\ \\end{bmatrix}$$ $"
   ]
  },
  {
   "cell_type": "markdown",
   "metadata": {},
   "source": [
    "### 1.4 Die Anwendungen der linearen Transformationen (Abbildungen)"
   ]
  },
  {
   "cell_type": "markdown",
   "metadata": {},
   "source": [
    "* Die einfachste Form der linearen Abbildung ist eine **Skalierung**\n",
    "\n",
    "$ A = $$\\begin{bmatrix} 2 & 0 \\\\ 0 & 1\\\\ \\end{bmatrix}$$ $\n",
    "\n",
    "* **Stauchen**\n",
    "\n",
    "$ B = $$\\begin{bmatrix} 1 & 0 \\\\ 0 & 0.6\\\\ \\end{bmatrix}$$ $\n",
    "\n",
    "* Gleichzeitig in beide Richtungen **strecken und/oder stauchen**\n",
    "\n",
    "$ C = $$\\begin{bmatrix} 2 & 0 \\\\ 0 & 0.6\\\\ \\end{bmatrix}$$ $\n",
    "\n",
    "* **Scherung**\n",
    "\n",
    "$ D = $$\\begin{bmatrix} 1 & 1.2 \\\\ 0 & 1\\\\ \\end{bmatrix}$$ $\n",
    "\n",
    "* **Drehung**\n",
    "\n",
    "$ E = $$\\begin{bmatrix} cos(a) & -sin(a) \\\\ sin(a) & cos(a)\\\\ \\end{bmatrix}$$ $\n",
    "\n",
    "* **Spiegelung**\n",
    "\n",
    "$ F = $$\\begin{bmatrix} cos(2a) & sin(2a) \\\\ sin(2a) & -cos(2a)\\\\ \\end{bmatrix}$$ $\n",
    "\n",
    "* **Projektion**\n",
    "\n",
    "$ F = $$\\begin{bmatrix} 1 & 0 \\\\ 0 & 0\\\\ \\end{bmatrix}$$ $\n",
    "\n",
    "\n"
   ]
  },
  {
   "cell_type": "markdown",
   "metadata": {},
   "source": [
    "## 2. Code - Darstellung zweidimensionalen linearen Abbildungen "
   ]
  },
  {
   "cell_type": "code",
   "execution_count": 2,
   "metadata": {},
   "outputs": [
    {
     "data": {
      "image/png": "[encoded data removed]",
      "text/plain": [
       "<Figure size 640x480 with 1 Axes>"
      ]
     },
     "metadata": {},
     "output_type": "display_data"
    }
   ],
   "source": [
    "# Import Numpy and Matplotlib\n",
    "import numpy as np\n",
    "import matplotlib.pyplot as plt\n",
    "from matplotlib.pyplot import figure\n",
    "figure(num=None, figsize=(8, 6), dpi=80, facecolor='w', edgecolor='k')\n",
    "\n",
    "def kreisLinAb(e1, e2):\n",
    "\n",
    "    # Radius of the circle\n",
    "    R = 1\n",
    "\n",
    "    # Number of Edges (the edges of a regular polygon, enough for a smooth \"circle\")\n",
    "    n = 500\n",
    "\n",
    "    #subdivide interval (0, 2*pi) into n pieces\n",
    "    theta = np.linspace(0, 2 * np.pi, n)\n",
    "\n",
    "    # calculate the x and the y arrays of the points on the circle\n",
    "    x = R * np.cos(theta)\n",
    "    y = R * np.sin(theta)\n",
    "\n",
    "    M = np.array([[e1], [e2]])\n",
    "\n",
    "    for i in range(0,len(theta)):\n",
    "        v = np.array([x[i],y[i]])\n",
    "        linAb = M @ v # Linear transformation \n",
    "        x[i] = linAb[0] # Replace old x value with the new value (transformed)\n",
    "        y[i] = linAb[1]\n",
    "\n",
    "    # Display the circle\n",
    "    plt.xlim(-5,5)\n",
    "    plt.ylim(-5,5)\n",
    "    plt.xticks(np.arange(-5, 6, 1.0))\n",
    "    plt.yticks(np.arange(-5, 6, 1.0))\n",
    "    plt.grid()\n",
    "    plt.plot(x, y, linewidth = 3.0)\n",
    "    plt.show()\n",
    "    \n",
    "e1 = np.array([1, 0])\n",
    "e2 = np.array([0, 1])\n",
    "\n",
    "kreisLinAb(e1, e2)"
   ]
  },
  {
   "cell_type": "markdown",
   "metadata": {},
   "source": [
    "## 3. Quellen"
   ]
  },
  {
   "cell_type": "markdown",
   "metadata": {},
   "source": [
    "* Teschl, G. and Teschl, S., 2013. Mathematik Für Informatiker. 4th ed. Berlin: Springer Vieweg.  \n",
    "* Weitz, E., 2018. Konkrete Mathematik (Nicht Nur) Für Informatiker. Wiesbaden, Germany: Springer.  "
   ]
  },
  {
   "cell_type": "code",
   "execution_count": null,
   "metadata": {},
   "outputs": [],
   "source": []
  }
 ],
 "metadata": {
  "kernelspec": {
   "display_name": "Python 3",
   "language": "python",
   "name": "python3"
  },
  "language_info": {
   "codemirror_mode": {
    "name": "ipython",
    "version": 3
   },
   "file_extension": ".py",
   "mimetype": "text/x-python",
   "name": "python",
   "nbconvert_exporter": "python",
   "pygments_lexer": "ipython3",
   "version": "3.7.7"
  }
 },
 "nbformat": 4,
 "nbformat_minor": 4
}
