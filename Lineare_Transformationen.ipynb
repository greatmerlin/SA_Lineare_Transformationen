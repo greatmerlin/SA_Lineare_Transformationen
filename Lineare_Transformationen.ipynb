{
 "cells": [
  {
   "cell_type": "markdown",
   "metadata": {},
   "source": [
    "# Teil 1 der Semesterarbeit: Lineare Transformationen"
   ]
  },
  {
   "cell_type": "markdown",
   "metadata": {},
   "source": [
    "## Inhaltsverzeichnis\n",
    "1. Begriffe\n",
    "2. Code\n",
    "3. Quelle"
   ]
  },
  {
   "cell_type": "markdown",
   "metadata": {},
   "source": [
    "## 1. Begriffe"
   ]
  },
  {
   "cell_type": "markdown",
   "metadata": {},
   "source": [
    "### 1.1 Lineare Abbildungen"
   ]
  },
  {
   "cell_type": "markdown",
   "metadata": {},
   "source": [
    "Sind $ V, W $ zwei Vektorräume (z. B. $ V = K^n $ und $ W = K^m $ ),\n",
    "dann heißt eine Abbildung $ F : V → W $ eine **lineare Abbildung** (oder auch **lineare\n",
    "Transformation**), wenn für alle Vektoren $ a, b ∈ V $ und alle Skalare $ k ∈ K $ gilt:\n",
    "\n",
    "$ F(a + b) = F(a) + F(b) $,    \n",
    "$ F(k * a) = k*F(a) $.\n"
   ]
  },
  {
   "cell_type": "markdown",
   "metadata": {},
   "source": [
    "Eine lineare Abbildung ist also mit Vektoraddition bzw. Multiplikation mit einem\n",
    "Skalar verträglich in dem Sinn, dass die Reihenfolge Abbilden – Addieren (bzw.\n",
    "Abbilden – Vielfaches bilden) vertauschbar ist."
   ]
  },
  {
   "cell_type": "markdown",
   "metadata": {},
   "source": [
    "Mann nennt eine Abbildung:  \n",
    "* **injektiv** wenn es zu jedem $ w ∈ W $ hochstens ein $ v ∈ V $ gibt.  \n",
    "* **surjektiv** wenn es zu jedem $ w ∈ W $ mindestens ein $ v ∈ V $ gibt.    \n",
    "* **bijektiv** wenn die Abbildung injektiv und surjektiv ist, es also zu jedem $ w ∈ W $ genau ein $ v ∈ V $ gibt.  "
   ]
  },
  {
   "cell_type": "markdown",
   "metadata": {},
   "source": [
    "Nun können wir die Verschiedene Menge veranschaulichen:  \n",
    "\n",
    "![alt text](https://raw.githubusercontent.com/greatmerlin/SA_Lineare_Transformationen/master/images/Menge.png \"Menge\")\n",
    "\n"
   ]
  },
  {
   "cell_type": "markdown",
   "metadata": {},
   "source": [
    "Drei wichtige Charakterisierungen der linearen Abbildung:  \n",
    "-  Eine Abbildung ist genau dann linear, wenn die Funktion von $ R^n nach R^m $ , die in der Form $ \\vec{v} -> A * \\vec{v} $ **durch eine Matrix** beschrieben wird.\n"
   ]
  },
  {
   "cell_type": "markdown",
   "metadata": {},
   "source": [
    "* Eine lineare Abbildung ist eine Funktion, die Punkte auf Punkte abbildet und dabei die folgenden drei Bedingungen erfüllt:  \n",
    "   – Eine Gerade wird entweder auf eine Gerade abgebildet, wobei die Streckenverhältnisse auf der Geraden erhalten bleiben,  \n",
    "   oder auf einen einzelnen Punkt.  \n",
    "   – Wenn zwei parallele Geraden auf zwei Geraden abgebildet werden, dann sind die Bildgeraden ebenfalls parallel.  \n",
    "   – Der Nullpunkt wird auf den Nullpunkt abgebildet.  \n"
   ]
  },
  {
   "cell_type": "markdown",
   "metadata": {},
   "source": [
    "* Eine lineare Abbildung ist eine Funktion f , die Vektoren auf Vektoren abbildet und für die $ f (v + w ) = f (v ) + f (w) $ sowie $ f (α · v ) = α · f ( v ) $\n",
    "für beliebige Vektoren $ v $ und $ w $ sowie Skalare $ α $ gilt.\n"
   ]
  },
  {
   "cell_type": "markdown",
   "metadata": {},
   "source": []
  }
 ],
 "metadata": {
  "kernelspec": {
   "display_name": "Python 3",
   "language": "python",
   "name": "python3"
  },
  "language_info": {
   "codemirror_mode": {
    "name": "ipython",
    "version": 3
   },
   "file_extension": ".py",
   "mimetype": "text/x-python",
   "name": "python",
   "nbconvert_exporter": "python",
   "pygments_lexer": "ipython3",
   "version": "3.7.7"
  }
 },
 "nbformat": 4,
 "nbformat_minor": 4
}
